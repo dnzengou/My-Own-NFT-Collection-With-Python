{
 "cells": [
  {
   "cell_type": "markdown",
   "id": "81ec9e84",
   "metadata": {},
   "source": [
    "# Create Your Own NFT Collection With Python\n",
    "\n",
    "[source](https://betterprogramming.pub/create-your-own-nft-collection-with-python-82af40abf99f)"
   ]
  },
  {
   "cell_type": "markdown",
   "id": "4d0aa2cf",
   "metadata": {},
   "source": [
    "### Get your data\n",
    "\n",
    "### Import the necessary packages "
   ]
  },
  {
   "cell_type": "code",
   "execution_count": 59,
   "id": "a05d3f45",
   "metadata": {},
   "outputs": [],
   "source": [
    "from PIL import Image \n",
    "from IPython.display import display \n",
    "import random\n",
    "import json\n",
    "import os"
   ]
  },
  {
   "cell_type": "markdown",
   "id": "c94bcccd",
   "metadata": {},
   "source": [
    "### Assign Trait Rarity"
   ]
  },
  {
   "cell_type": "code",
   "execution_count": 60,
   "id": "a5f05923",
   "metadata": {},
   "outputs": [],
   "source": [
    "# Each image is made up a series of traits\n",
    "# The weightings for each trait drive the rarity and add up to 100%\n",
    "\n",
    "face = [\"White\", \"Black\"] \n",
    "face_weights = [60, 40]\n",
    "\n",
    "ears = [\"ears1\", \"ears2\", \"ears3\", \"ears4\"] \n",
    "ears_weights = [25, 30 , 44, 1]\n",
    "\n",
    "eyes = [\"regular\", \"small\", \"rayban\", \"hipster\", \"focused\"] \n",
    "eyes_weights = [60, 15, 5, 8, 12]\n",
    "\n",
    "hair = ['hair1', 'hair10', 'hair11', 'hair12', 'hair2', 'hair3', 'hair4',\n",
    " 'hair5',\n",
    " 'hair6',\n",
    " 'hair7',\n",
    " 'hair8',\n",
    " 'hair9']\n",
    "hair_weights = [10 , 10 , 10 , 10 ,10, 10, 10 ,10 ,10, 7 , 1 , 2]\n",
    "\n",
    "mouth = ['m1', 'm2', 'm3', 'm4', 'm5', 'm6']\n",
    "mouth_weights = [10, 10,50, 10,15, 5]\n",
    "\n",
    "nose = ['n1', 'n2']\n",
    "nose_weights = [90, 10]\n",
    "\n",
    "#beard = ['beard1', 'beard2', 'beard3', 'beard4', 'beard5']\n",
    "#beard_weights = [10, 20, 30 , 15 , 35]"
   ]
  },
  {
   "cell_type": "markdown",
   "id": "caebbbe4",
   "metadata": {},
   "source": [
    "### Classify your traits"
   ]
  },
  {
   "cell_type": "code",
   "execution_count": 61,
   "id": "01f25593",
   "metadata": {},
   "outputs": [],
   "source": [
    "# Dictionary variable for each trait. \n",
    "# Eech trait corresponds to its file name\n",
    "\n",
    "face_files = {\n",
    "    \"White\": \"face1\",\n",
    "    \"Black\": \"face2\"\n",
    "}\n",
    "\n",
    "ears_files = {\n",
    "    \"ears1\": \"ears1\",\n",
    "    \"ears2\": \"ears2\",\n",
    "    \"ears3\": \"ears3\",\n",
    "    \"ears4\": \"ears4\"\n",
    "}\n",
    "\n",
    "eyes_files = {\n",
    "    \"regular\": \"eyes1\",\n",
    "    \"small\": \"eyes2\",\n",
    "    \"rayban\": \"eyes3\",\n",
    "    \"hipster\": \"eyes4\",\n",
    "    \"focused\": \"eyes5\"     \n",
    "}\n",
    "\n",
    "hair_files = {\n",
    "    \"hair1\": \"hair1\",\n",
    "    \"hair2\": \"hair2\",\n",
    "    \"hair3\": \"hair3\",\n",
    "    \"hair4\": \"hair4\",\n",
    "    \"hair5\": \"hair5\",\n",
    "    \"hair6\": \"hair6\",\n",
    "    \"hair7\": \"hair7\",\n",
    "    \"hair8\": \"hair8\",\n",
    "    \"hair9\": \"hair9\",\n",
    "    \"hair10\": \"hair10\",\n",
    "    \"hair11\": \"hair11\",\n",
    "    \"hair12\": \"hair12\"\n",
    "}\n",
    "\n",
    "mouth_files = {\n",
    "    \"m1\": \"m1\",\n",
    "    \"m2\": \"m2\",\n",
    "    \"m3\": \"m3\",\n",
    "    \"m4\": \"m4\",\n",
    "    \"m5\": \"m5\",\n",
    "    \"m6\": \"m6\"\n",
    "}\n",
    "\n",
    "nose_files = {\n",
    "    \"n1\": \"n1\",\n",
    "    \"n2\": \"n2\"   \n",
    "}\n",
    "\n",
    "#beard_files = {\"beard1\": \"beard1\", \"beard2\": \"beard2\", \"beard3\": \"beard3\", \"beard4\": \"beard4\", \"beard5\": \"beard5\"}"
   ]
  },
  {
   "cell_type": "markdown",
   "id": "7242004f",
   "metadata": {},
   "source": [
    "### Define the images traits"
   ]
  },
  {
   "cell_type": "code",
   "execution_count": 62,
   "id": "00c271c4",
   "metadata": {},
   "outputs": [],
   "source": [
    "## Generate Traits\n",
    "\n",
    "TOTAL_IMAGES = 100 # Number of random unique images we want to generate\n",
    "\n",
    "all_images = [] \n",
    "\n",
    "# A recursive function to generate unique image combinations\n",
    "def create_new_image():\n",
    "    \n",
    "    new_image = {} #\n",
    "\n",
    "    # For each trait category, select a random trait based on the weightings \n",
    "    new_image [\"Face\"] = random.choices(face, face_weights)[0]\n",
    "    new_image [\"Ears\"] = random.choices(ears, ears_weights)[0]\n",
    "    new_image [\"Eyes\"] = random.choices(eyes, eyes_weights)[0]\n",
    "    new_image [\"Hair\"] = random.choices(hair, hair_weights)[0]\n",
    "    new_image [\"Mouth\"] = random.choices(mouth, mouth_weights)[0]\n",
    "    new_image [\"Nose\"] = random.choices(nose, nose_weights)[0]\n",
    "    #new_image [\"Beard\"] = random.choices(beard, beard_weights)[0]\n",
    "    \n",
    "    if new_image in all_images:\n",
    "        return create_new_image()\n",
    "    else:\n",
    "        return new_image\n",
    "    \n",
    "    \n",
    "# Generate the unique combinations based on trait weightings\n",
    "for i in range(TOTAL_IMAGES): \n",
    "    \n",
    "    new_trait_image = create_new_image()\n",
    "    \n",
    "    all_images.append(new_trait_image)"
   ]
  },
  {
   "cell_type": "markdown",
   "id": "893bcccf",
   "metadata": {},
   "source": [
    "### Validate uniqueness"
   ]
  },
  {
   "cell_type": "code",
   "execution_count": 63,
   "id": "7273784d",
   "metadata": {},
   "outputs": [
    {
     "name": "stdout",
     "output_type": "stream",
     "text": [
      "Are all images unique? True\n"
     ]
    }
   ],
   "source": [
    "# Returns true if all images are unique\n",
    "def all_images_unique(all_images):\n",
    "    seen = list()\n",
    "    return not any(i in seen or seen.append(i) for i in all_images)\n",
    "\n",
    "print(\"Are all images unique?\", all_images_unique(all_images))"
   ]
  },
  {
   "cell_type": "code",
   "execution_count": 64,
   "id": "c0ba2ae4",
   "metadata": {},
   "outputs": [
    {
     "name": "stdout",
     "output_type": "stream",
     "text": [
      "[{'Face': 'White', 'Ears': 'ears3', 'Eyes': 'small', 'Hair': 'hair1', 'Mouth': 'm4', 'Nose': 'n1', 'tokenId': 0}, {'Face': 'White', 'Ears': 'ears2', 'Eyes': 'small', 'Hair': 'hair2', 'Mouth': 'm5', 'Nose': 'n1', 'tokenId': 1}, {'Face': 'White', 'Ears': 'ears3', 'Eyes': 'regular', 'Hair': 'hair4', 'Mouth': 'm3', 'Nose': 'n1', 'tokenId': 2}, {'Face': 'Black', 'Ears': 'ears2', 'Eyes': 'regular', 'Hair': 'hair4', 'Mouth': 'm3', 'Nose': 'n1', 'tokenId': 3}, {'Face': 'Black', 'Ears': 'ears1', 'Eyes': 'regular', 'Hair': 'hair5', 'Mouth': 'm3', 'Nose': 'n1', 'tokenId': 4}, {'Face': 'Black', 'Ears': 'ears3', 'Eyes': 'regular', 'Hair': 'hair1', 'Mouth': 'm3', 'Nose': 'n1', 'tokenId': 5}, {'Face': 'Black', 'Ears': 'ears3', 'Eyes': 'regular', 'Hair': 'hair3', 'Mouth': 'm3', 'Nose': 'n1', 'tokenId': 6}, {'Face': 'Black', 'Ears': 'ears2', 'Eyes': 'focused', 'Hair': 'hair3', 'Mouth': 'm4', 'Nose': 'n2', 'tokenId': 7}, {'Face': 'White', 'Ears': 'ears1', 'Eyes': 'regular', 'Hair': 'hair7', 'Mouth': 'm3', 'Nose': 'n1', 'tokenId': 8}, {'Face': 'White', 'Ears': 'ears1', 'Eyes': 'regular', 'Hair': 'hair2', 'Mouth': 'm2', 'Nose': 'n1', 'tokenId': 9}, {'Face': 'Black', 'Ears': 'ears4', 'Eyes': 'focused', 'Hair': 'hair6', 'Mouth': 'm2', 'Nose': 'n2', 'tokenId': 10}, {'Face': 'Black', 'Ears': 'ears3', 'Eyes': 'regular', 'Hair': 'hair3', 'Mouth': 'm1', 'Nose': 'n1', 'tokenId': 11}, {'Face': 'Black', 'Ears': 'ears1', 'Eyes': 'regular', 'Hair': 'hair6', 'Mouth': 'm3', 'Nose': 'n1', 'tokenId': 12}, {'Face': 'White', 'Ears': 'ears1', 'Eyes': 'regular', 'Hair': 'hair7', 'Mouth': 'm5', 'Nose': 'n1', 'tokenId': 13}, {'Face': 'White', 'Ears': 'ears3', 'Eyes': 'regular', 'Hair': 'hair1', 'Mouth': 'm2', 'Nose': 'n2', 'tokenId': 14}, {'Face': 'White', 'Ears': 'ears2', 'Eyes': 'regular', 'Hair': 'hair4', 'Mouth': 'm3', 'Nose': 'n1', 'tokenId': 15}, {'Face': 'Black', 'Ears': 'ears3', 'Eyes': 'small', 'Hair': 'hair1', 'Mouth': 'm1', 'Nose': 'n2', 'tokenId': 16}, {'Face': 'Black', 'Ears': 'ears2', 'Eyes': 'regular', 'Hair': 'hair1', 'Mouth': 'm3', 'Nose': 'n1', 'tokenId': 17}, {'Face': 'White', 'Ears': 'ears3', 'Eyes': 'hipster', 'Hair': 'hair2', 'Mouth': 'm3', 'Nose': 'n1', 'tokenId': 18}, {'Face': 'Black', 'Ears': 'ears2', 'Eyes': 'rayban', 'Hair': 'hair10', 'Mouth': 'm5', 'Nose': 'n2', 'tokenId': 19}, {'Face': 'White', 'Ears': 'ears3', 'Eyes': 'hipster', 'Hair': 'hair10', 'Mouth': 'm3', 'Nose': 'n1', 'tokenId': 20}, {'Face': 'White', 'Ears': 'ears3', 'Eyes': 'regular', 'Hair': 'hair11', 'Mouth': 'm5', 'Nose': 'n2', 'tokenId': 21}, {'Face': 'White', 'Ears': 'ears3', 'Eyes': 'small', 'Hair': 'hair11', 'Mouth': 'm5', 'Nose': 'n1', 'tokenId': 22}, {'Face': 'White', 'Ears': 'ears2', 'Eyes': 'regular', 'Hair': 'hair11', 'Mouth': 'm6', 'Nose': 'n1', 'tokenId': 23}, {'Face': 'White', 'Ears': 'ears3', 'Eyes': 'regular', 'Hair': 'hair3', 'Mouth': 'm3', 'Nose': 'n1', 'tokenId': 24}, {'Face': 'White', 'Ears': 'ears3', 'Eyes': 'focused', 'Hair': 'hair10', 'Mouth': 'm3', 'Nose': 'n1', 'tokenId': 25}, {'Face': 'Black', 'Ears': 'ears3', 'Eyes': 'focused', 'Hair': 'hair10', 'Mouth': 'm5', 'Nose': 'n1', 'tokenId': 26}, {'Face': 'White', 'Ears': 'ears1', 'Eyes': 'regular', 'Hair': 'hair11', 'Mouth': 'm3', 'Nose': 'n2', 'tokenId': 27}, {'Face': 'Black', 'Ears': 'ears1', 'Eyes': 'regular', 'Hair': 'hair1', 'Mouth': 'm4', 'Nose': 'n1', 'tokenId': 28}, {'Face': 'White', 'Ears': 'ears1', 'Eyes': 'regular', 'Hair': 'hair5', 'Mouth': 'm5', 'Nose': 'n1', 'tokenId': 29}, {'Face': 'White', 'Ears': 'ears3', 'Eyes': 'regular', 'Hair': 'hair5', 'Mouth': 'm4', 'Nose': 'n1', 'tokenId': 30}, {'Face': 'White', 'Ears': 'ears1', 'Eyes': 'hipster', 'Hair': 'hair2', 'Mouth': 'm3', 'Nose': 'n1', 'tokenId': 31}, {'Face': 'Black', 'Ears': 'ears1', 'Eyes': 'regular', 'Hair': 'hair11', 'Mouth': 'm4', 'Nose': 'n1', 'tokenId': 32}, {'Face': 'White', 'Ears': 'ears1', 'Eyes': 'small', 'Hair': 'hair3', 'Mouth': 'm3', 'Nose': 'n1', 'tokenId': 33}, {'Face': 'Black', 'Ears': 'ears3', 'Eyes': 'rayban', 'Hair': 'hair3', 'Mouth': 'm4', 'Nose': 'n2', 'tokenId': 34}, {'Face': 'Black', 'Ears': 'ears2', 'Eyes': 'regular', 'Hair': 'hair1', 'Mouth': 'm2', 'Nose': 'n1', 'tokenId': 35}, {'Face': 'White', 'Ears': 'ears2', 'Eyes': 'regular', 'Hair': 'hair10', 'Mouth': 'm3', 'Nose': 'n2', 'tokenId': 36}, {'Face': 'White', 'Ears': 'ears2', 'Eyes': 'regular', 'Hair': 'hair7', 'Mouth': 'm3', 'Nose': 'n1', 'tokenId': 37}, {'Face': 'Black', 'Ears': 'ears3', 'Eyes': 'small', 'Hair': 'hair5', 'Mouth': 'm3', 'Nose': 'n1', 'tokenId': 38}, {'Face': 'Black', 'Ears': 'ears1', 'Eyes': 'focused', 'Hair': 'hair1', 'Mouth': 'm3', 'Nose': 'n1', 'tokenId': 39}, {'Face': 'Black', 'Ears': 'ears3', 'Eyes': 'regular', 'Hair': 'hair6', 'Mouth': 'm3', 'Nose': 'n1', 'tokenId': 40}, {'Face': 'White', 'Ears': 'ears3', 'Eyes': 'small', 'Hair': 'hair5', 'Mouth': 'm5', 'Nose': 'n1', 'tokenId': 41}, {'Face': 'White', 'Ears': 'ears2', 'Eyes': 'focused', 'Hair': 'hair7', 'Mouth': 'm1', 'Nose': 'n1', 'tokenId': 42}, {'Face': 'White', 'Ears': 'ears1', 'Eyes': 'small', 'Hair': 'hair2', 'Mouth': 'm3', 'Nose': 'n1', 'tokenId': 43}, {'Face': 'White', 'Ears': 'ears2', 'Eyes': 'rayban', 'Hair': 'hair4', 'Mouth': 'm2', 'Nose': 'n1', 'tokenId': 44}, {'Face': 'White', 'Ears': 'ears3', 'Eyes': 'regular', 'Hair': 'hair4', 'Mouth': 'm2', 'Nose': 'n1', 'tokenId': 45}, {'Face': 'White', 'Ears': 'ears3', 'Eyes': 'focused', 'Hair': 'hair1', 'Mouth': 'm5', 'Nose': 'n1', 'tokenId': 46}, {'Face': 'White', 'Ears': 'ears3', 'Eyes': 'regular', 'Hair': 'hair8', 'Mouth': 'm3', 'Nose': 'n1', 'tokenId': 47}, {'Face': 'White', 'Ears': 'ears1', 'Eyes': 'small', 'Hair': 'hair4', 'Mouth': 'm3', 'Nose': 'n1', 'tokenId': 48}, {'Face': 'Black', 'Ears': 'ears1', 'Eyes': 'focused', 'Hair': 'hair7', 'Mouth': 'm3', 'Nose': 'n1', 'tokenId': 49}, {'Face': 'White', 'Ears': 'ears3', 'Eyes': 'regular', 'Hair': 'hair11', 'Mouth': 'm3', 'Nose': 'n1', 'tokenId': 50}, {'Face': 'White', 'Ears': 'ears3', 'Eyes': 'regular', 'Hair': 'hair1', 'Mouth': 'm3', 'Nose': 'n1', 'tokenId': 51}, {'Face': 'White', 'Ears': 'ears1', 'Eyes': 'regular', 'Hair': 'hair2', 'Mouth': 'm3', 'Nose': 'n1', 'tokenId': 52}, {'Face': 'White', 'Ears': 'ears1', 'Eyes': 'focused', 'Hair': 'hair1', 'Mouth': 'm3', 'Nose': 'n1', 'tokenId': 53}, {'Face': 'Black', 'Ears': 'ears3', 'Eyes': 'hipster', 'Hair': 'hair3', 'Mouth': 'm3', 'Nose': 'n1', 'tokenId': 54}, {'Face': 'Black', 'Ears': 'ears1', 'Eyes': 'regular', 'Hair': 'hair11', 'Mouth': 'm1', 'Nose': 'n1', 'tokenId': 55}, {'Face': 'White', 'Ears': 'ears3', 'Eyes': 'small', 'Hair': 'hair11', 'Mouth': 'm4', 'Nose': 'n2', 'tokenId': 56}, {'Face': 'White', 'Ears': 'ears1', 'Eyes': 'small', 'Hair': 'hair10', 'Mouth': 'm3', 'Nose': 'n1', 'tokenId': 57}, {'Face': 'White', 'Ears': 'ears3', 'Eyes': 'regular', 'Hair': 'hair12', 'Mouth': 'm2', 'Nose': 'n1', 'tokenId': 58}, {'Face': 'White', 'Ears': 'ears1', 'Eyes': 'hipster', 'Hair': 'hair12', 'Mouth': 'm4', 'Nose': 'n1', 'tokenId': 59}, {'Face': 'White', 'Ears': 'ears1', 'Eyes': 'hipster', 'Hair': 'hair11', 'Mouth': 'm2', 'Nose': 'n1', 'tokenId': 60}, {'Face': 'White', 'Ears': 'ears2', 'Eyes': 'regular', 'Hair': 'hair6', 'Mouth': 'm6', 'Nose': 'n1', 'tokenId': 61}, {'Face': 'Black', 'Ears': 'ears2', 'Eyes': 'regular', 'Hair': 'hair3', 'Mouth': 'm4', 'Nose': 'n1', 'tokenId': 62}, {'Face': 'White', 'Ears': 'ears3', 'Eyes': 'regular', 'Hair': 'hair12', 'Mouth': 'm5', 'Nose': 'n1', 'tokenId': 63}, {'Face': 'Black', 'Ears': 'ears1', 'Eyes': 'regular', 'Hair': 'hair3', 'Mouth': 'm3', 'Nose': 'n1', 'tokenId': 64}, {'Face': 'White', 'Ears': 'ears2', 'Eyes': 'hipster', 'Hair': 'hair4', 'Mouth': 'm5', 'Nose': 'n1', 'tokenId': 65}, {'Face': 'Black', 'Ears': 'ears2', 'Eyes': 'regular', 'Hair': 'hair12', 'Mouth': 'm3', 'Nose': 'n1', 'tokenId': 66}, {'Face': 'Black', 'Ears': 'ears2', 'Eyes': 'regular', 'Hair': 'hair10', 'Mouth': 'm3', 'Nose': 'n1', 'tokenId': 67}, {'Face': 'Black', 'Ears': 'ears3', 'Eyes': 'small', 'Hair': 'hair5', 'Mouth': 'm5', 'Nose': 'n1', 'tokenId': 68}, {'Face': 'White', 'Ears': 'ears3', 'Eyes': 'small', 'Hair': 'hair2', 'Mouth': 'm4', 'Nose': 'n1', 'tokenId': 69}, {'Face': 'Black', 'Ears': 'ears3', 'Eyes': 'focused', 'Hair': 'hair1', 'Mouth': 'm1', 'Nose': 'n1', 'tokenId': 70}, {'Face': 'White', 'Ears': 'ears2', 'Eyes': 'small', 'Hair': 'hair12', 'Mouth': 'm3', 'Nose': 'n1', 'tokenId': 71}, {'Face': 'White', 'Ears': 'ears3', 'Eyes': 'regular', 'Hair': 'hair2', 'Mouth': 'm3', 'Nose': 'n1', 'tokenId': 72}, {'Face': 'Black', 'Ears': 'ears1', 'Eyes': 'hipster', 'Hair': 'hair7', 'Mouth': 'm1', 'Nose': 'n1', 'tokenId': 73}, {'Face': 'Black', 'Ears': 'ears1', 'Eyes': 'regular', 'Hair': 'hair2', 'Mouth': 'm1', 'Nose': 'n1', 'tokenId': 74}, {'Face': 'White', 'Ears': 'ears3', 'Eyes': 'small', 'Hair': 'hair5', 'Mouth': 'm2', 'Nose': 'n1', 'tokenId': 75}, {'Face': 'White', 'Ears': 'ears3', 'Eyes': 'small', 'Hair': 'hair3', 'Mouth': 'm6', 'Nose': 'n1', 'tokenId': 76}, {'Face': 'White', 'Ears': 'ears2', 'Eyes': 'focused', 'Hair': 'hair12', 'Mouth': 'm3', 'Nose': 'n2', 'tokenId': 77}, {'Face': 'White', 'Ears': 'ears3', 'Eyes': 'small', 'Hair': 'hair10', 'Mouth': 'm2', 'Nose': 'n1', 'tokenId': 78}, {'Face': 'Black', 'Ears': 'ears2', 'Eyes': 'focused', 'Hair': 'hair11', 'Mouth': 'm3', 'Nose': 'n1', 'tokenId': 79}, {'Face': 'Black', 'Ears': 'ears3', 'Eyes': 'regular', 'Hair': 'hair12', 'Mouth': 'm1', 'Nose': 'n2', 'tokenId': 80}, {'Face': 'White', 'Ears': 'ears1', 'Eyes': 'rayban', 'Hair': 'hair7', 'Mouth': 'm5', 'Nose': 'n1', 'tokenId': 81}, {'Face': 'Black', 'Ears': 'ears3', 'Eyes': 'small', 'Hair': 'hair11', 'Mouth': 'm3', 'Nose': 'n1', 'tokenId': 82}, {'Face': 'Black', 'Ears': 'ears3', 'Eyes': 'regular', 'Hair': 'hair10', 'Mouth': 'm3', 'Nose': 'n1', 'tokenId': 83}, {'Face': 'White', 'Ears': 'ears2', 'Eyes': 'focused', 'Hair': 'hair10', 'Mouth': 'm4', 'Nose': 'n1', 'tokenId': 84}, {'Face': 'White', 'Ears': 'ears3', 'Eyes': 'hipster', 'Hair': 'hair4', 'Mouth': 'm5', 'Nose': 'n1', 'tokenId': 85}, {'Face': 'White', 'Ears': 'ears3', 'Eyes': 'focused', 'Hair': 'hair4', 'Mouth': 'm3', 'Nose': 'n1', 'tokenId': 86}, {'Face': 'White', 'Ears': 'ears3', 'Eyes': 'small', 'Hair': 'hair6', 'Mouth': 'm3', 'Nose': 'n1', 'tokenId': 87}, {'Face': 'Black', 'Ears': 'ears1', 'Eyes': 'regular', 'Hair': 'hair4', 'Mouth': 'm2', 'Nose': 'n1', 'tokenId': 88}, {'Face': 'White', 'Ears': 'ears1', 'Eyes': 'regular', 'Hair': 'hair12', 'Mouth': 'm1', 'Nose': 'n1', 'tokenId': 89}, {'Face': 'White', 'Ears': 'ears3', 'Eyes': 'regular', 'Hair': 'hair1', 'Mouth': 'm4', 'Nose': 'n1', 'tokenId': 90}, {'Face': 'White', 'Ears': 'ears2', 'Eyes': 'regular', 'Hair': 'hair12', 'Mouth': 'm5', 'Nose': 'n1', 'tokenId': 91}, {'Face': 'White', 'Ears': 'ears3', 'Eyes': 'focused', 'Hair': 'hair5', 'Mouth': 'm3', 'Nose': 'n1', 'tokenId': 92}, {'Face': 'White', 'Ears': 'ears1', 'Eyes': 'regular', 'Hair': 'hair2', 'Mouth': 'm5', 'Nose': 'n1', 'tokenId': 93}, {'Face': 'Black', 'Ears': 'ears1', 'Eyes': 'rayban', 'Hair': 'hair6', 'Mouth': 'm2', 'Nose': 'n1', 'tokenId': 94}, {'Face': 'White', 'Ears': 'ears3', 'Eyes': 'small', 'Hair': 'hair4', 'Mouth': 'm2', 'Nose': 'n1', 'tokenId': 95}, {'Face': 'Black', 'Ears': 'ears3', 'Eyes': 'hipster', 'Hair': 'hair4', 'Mouth': 'm4', 'Nose': 'n1', 'tokenId': 96}, {'Face': 'Black', 'Ears': 'ears1', 'Eyes': 'regular', 'Hair': 'hair11', 'Mouth': 'm6', 'Nose': 'n1', 'tokenId': 97}, {'Face': 'White', 'Ears': 'ears1', 'Eyes': 'regular', 'Hair': 'hair4', 'Mouth': 'm4', 'Nose': 'n1', 'tokenId': 98}, {'Face': 'Black', 'Ears': 'ears1', 'Eyes': 'regular', 'Hair': 'hair10', 'Mouth': 'm5', 'Nose': 'n1', 'tokenId': 99}]\n"
     ]
    }
   ],
   "source": [
    "# Add token Id to each image\n",
    "i = 0\n",
    "for item in all_images:\n",
    "    item[\"tokenId\"] = i\n",
    "    i = i + 1\n",
    "   \n",
    "print(all_images)"
   ]
  },
  {
   "cell_type": "markdown",
   "id": "99056c37",
   "metadata": {},
   "source": [
    "### Trait Counting"
   ]
  },
  {
   "cell_type": "code",
   "execution_count": 65,
   "id": "ceac61f1",
   "metadata": {
    "scrolled": true
   },
   "outputs": [
    {
     "name": "stdout",
     "output_type": "stream",
     "text": [
      "{'White': 61, 'Black': 39}\n",
      "{'ears1': 32, 'ears2': 22, 'ears3': 45, 'ears4': 1}\n",
      "{'regular': 50, 'small': 20, 'rayban': 5, 'hipster': 10, 'focused': 15}\n",
      "{'hair1': 13, 'hair10': 11, 'hair11': 12, 'hair12': 9, 'hair2': 10, 'hair3': 10, 'hair4': 13, 'hair5': 8, 'hair6': 6, 'hair7': 7, 'hair8': 1, 'hair9': 0}\n",
      "{'m1': 9, 'm2': 13, 'm3': 43, 'm4': 14, 'm5': 17, 'm6': 4}\n",
      "{'n1': 88, 'n2': 12}\n"
     ]
    }
   ],
   "source": [
    "# Get Trait Counts\n",
    "\n",
    "face_count = {}\n",
    "for item in face:\n",
    "    face_count[item] = 0\n",
    "    \n",
    "ears_count = {}\n",
    "for item in ears:\n",
    "    ears_count[item] = 0\n",
    "\n",
    "eyes_count = {}\n",
    "for item in eyes:\n",
    "    eyes_count[item] = 0\n",
    "    \n",
    "hair_count = {}\n",
    "for item in hair:\n",
    "    hair_count[item] = 0\n",
    "    \n",
    "mouth_count = {}\n",
    "for item in mouth:\n",
    "    mouth_count[item] = 0\n",
    "    \n",
    "nose_count = {}\n",
    "for item in nose:\n",
    "    nose_count[item] = 0\n",
    "    \n",
    "#beard_count = {}\n",
    "#for item in nose:\n",
    "#    beard_count[item] = 0\n",
    "\n",
    "for image in all_images:\n",
    "    face_count[image[\"Face\"]] += 1\n",
    "    ears_count[image[\"Ears\"]] += 1\n",
    "    eyes_count[image[\"Eyes\"]] += 1\n",
    "    hair_count[image[\"Hair\"]] += 1\n",
    "    mouth_count[image[\"Mouth\"]] += 1\n",
    "    nose_count[image[\"Nose\"]] += 1\n",
    "    #beard_count[image[\"Beard\"]] += 1\n",
    "    \n",
    "print(face_count)\n",
    "print(ears_count)\n",
    "print(eyes_count)\n",
    "print(hair_count)\n",
    "print(mouth_count)\n",
    "print(nose_count)\n",
    "#print(beard_count)"
   ]
  },
  {
   "cell_type": "markdown",
   "id": "789b5b64",
   "metadata": {},
   "source": [
    "### Generate Metadata for all Traits"
   ]
  },
  {
   "cell_type": "code",
   "execution_count": 66,
   "id": "d6a44cc9",
   "metadata": {},
   "outputs": [],
   "source": [
    "#### Generate Metadata for all Traits\n",
    "\n",
    "METADATA_FILE_NAME = './metadata/all-traits.json'; \n",
    "with open(METADATA_FILE_NAME, 'w') as outfile:\n",
    "    json.dump(all_images, outfile, indent=4)"
   ]
  },
  {
   "cell_type": "markdown",
   "id": "41d5e7b0",
   "metadata": {},
   "source": [
    "### Generate the Images\n",
    "[original img source](https://github.com/dnzengou/substrapunks) <br>\n",
    "[zip folder](https://github.com/usetech-llc/substrapunks/archive/refs/heads/master.zip)"
   ]
  },
  {
   "cell_type": "code",
   "execution_count": 68,
   "id": "8fd9e93e",
   "metadata": {},
   "outputs": [],
   "source": [
    "#### Generate Images\n",
    "\n",
    "os.mkdir(f'./images')\n",
    "\n",
    "for item in all_images:\n",
    "\n",
    "    im1 = Image.open(f'./face_parts/face/{face_files[item[\"Face\"]]}.png').convert('RGBA')\n",
    "    im2 = Image.open(f'./face_parts/eyes/{eyes_files[item[\"Eyes\"]]}.png').convert('RGBA')\n",
    "    im3 = Image.open(f'./face_parts/ears/{ears_files[item[\"Ears\"]]}.png').convert('RGBA')\n",
    "    im4 = Image.open(f'./face_parts/hair/{hair_files[item[\"Hair\"]]}.png').convert('RGBA')\n",
    "    im5 = Image.open(f'./face_parts/mouth/{mouth_files[item[\"Mouth\"]]}.png').convert('RGBA')\n",
    "    im6 = Image.open(f'./face_parts/nose/{nose_files[item[\"Nose\"]]}.png').convert('RGBA')\n",
    "    #im7 = Image.open(f'./face_parts/beard/{beard_files[item[\"Beard\"]]}.png').convert('RGBA')\n",
    "\n",
    "    #Create each composite\n",
    "    com1 = Image.alpha_composite(im1, im2)\n",
    "    com2 = Image.alpha_composite(com1, im3)\n",
    "    com3 = Image.alpha_composite(com2, im4)\n",
    "    com4 = Image.alpha_composite(com3, im5)\n",
    "    com5 = Image.alpha_composite(com4, im6)\n",
    "    #com6 = Image.alpha_composite(com5, im7)\n",
    "\n",
    "                     \n",
    "\n",
    "    #Convert to RGB\n",
    "    rgb_im = com5.convert('RGB')\n",
    "    file_name = str(item[\"tokenId\"]) + \".png\"\n",
    "    rgb_im.save(\"./images/\" + file_name)\n",
    "    "
   ]
  },
  {
   "cell_type": "markdown",
   "id": "1c2d3d54",
   "metadata": {},
   "source": [
    "### Generate Metadata for each Image"
   ]
  },
  {
   "cell_type": "code",
   "execution_count": 69,
   "id": "76b6ce1a",
   "metadata": {},
   "outputs": [],
   "source": [
    "#### Generate Metadata for each Image    \n",
    "\n",
    "f = open('./metadata/all-traits.json',) \n",
    "data = json.load(f)\n",
    "\n",
    "\n",
    "IMAGES_BASE_URI = \"https://github.com/dnzengou/My-Own-NFT-Collection-With-Python/face_parts\" ## IMAGES_BASE_URI\n",
    "PROJECT_NAME = \"My-Own-NFT-Collection-With-Pyhthon\" ## PROJECT_NAME\n",
    "\n",
    "def getAttribute(key, value):\n",
    "    return {\n",
    "        \"trait_type\": key,\n",
    "        \"value\": value\n",
    "    }\n",
    "for i in data:\n",
    "    token_id = i['tokenId']\n",
    "    token = {\n",
    "        \"image\": IMAGES_BASE_URI + str(token_id) + '.png',\n",
    "        \"tokenId\": token_id,\n",
    "        \"name\": PROJECT_NAME + ' ' + str(token_id),\n",
    "        \"attributes\": []\n",
    "    }\n",
    "    token[\"attributes\"].append(getAttribute(\"Face\", i[\"Face\"]))\n",
    "    token[\"attributes\"].append(getAttribute(\"Eyes\", i[\"Eyes\"]))\n",
    "    token[\"attributes\"].append(getAttribute(\"Ears\", i[\"Ears\"]))\n",
    "    token[\"attributes\"].append(getAttribute(\"Hair\", i[\"Hair\"]))\n",
    "    token[\"attributes\"].append(getAttribute(\"Mouth\", i[\"Mouth\"]))\n",
    "    token[\"attributes\"].append(getAttribute(\"Nose\", i[\"Nose\"]))\n",
    "    #token[\"attributes\"].append(getAttribute(\"Beard\", i[\"Beard\"]))\n",
    "\n",
    "    with open('./metadata/' + str(token_id), 'w') as outfile:\n",
    "        json.dump(token, outfile, indent=4)\n",
    "f.close()"
   ]
  },
  {
   "cell_type": "code",
   "execution_count": null,
   "id": "322be8d5",
   "metadata": {},
   "outputs": [],
   "source": []
  }
 ],
 "metadata": {
  "kernelspec": {
   "display_name": "Python 3 (ipykernel)",
   "language": "python",
   "name": "python3"
  },
  "language_info": {
   "codemirror_mode": {
    "name": "ipython",
    "version": 3
   },
   "file_extension": ".py",
   "mimetype": "text/x-python",
   "name": "python",
   "nbconvert_exporter": "python",
   "pygments_lexer": "ipython3",
   "version": "3.8.8"
  }
 },
 "nbformat": 4,
 "nbformat_minor": 5
}
